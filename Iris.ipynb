{
  "cells": [
    {
      "cell_type": "markdown",
      "metadata": {
        "id": "view-in-github",
        "colab_type": "text"
      },
      "source": [
        "<a href=\"https://colab.research.google.com/github/fay421/ML_Projects/blob/main/Iris.ipynb\" target=\"_parent\"><img src=\"https://colab.research.google.com/assets/colab-badge.svg\" alt=\"Open In Colab\"/></a>"
      ]
    },
    {
      "cell_type": "markdown",
      "source": [
        "## KNN Classification Project-Iris\n"
      ],
      "metadata": {
        "id": "FDt-7r0StDwO"
      }
    },
    {
      "cell_type": "markdown",
      "source": [
        "## About KNN Model:\n",
        "\n",
        "\n",
        "\n",
        "   K-Nearest Neighbors (KNN) is a simple and versatile machine learning algorithm used for both classification and regression tasks.\n",
        "*   Classification with KNN:\n",
        "In classification, KNN assigns a data point to the majority class among its k-nearest neighbors. The algorithm works by calculating the distance between the data point and all other points in the training set and then selecting the k-nearest neighbors based on this distance metric (commonly Euclidean distance). The class label of the majority of these neighbors is assigned to the data point.\n",
        "\n",
        "\n",
        "*   Regression with KNN:\n",
        "In regression, KNN predicts the target value for a data point by averaging the target values of its k-nearest neighbors. The process is similar to classification, but instead of assigning a class label, KNN calculates the average of the target values.\n",
        "\n",
        "*   Pros of KNN:\n",
        "\n",
        "1.   Simple and Intuitive: KNN is easy to understand and implement, making it a good choice for beginners.\n",
        "2.   Non-parametric: It doesn't make assumptions about the underlying data distribution, making it suitable for various types of datasets.\n",
        "\n",
        "3.   Adaptability: KNN can adapt to changes in the data as new instances become available.\n",
        "\n",
        "*   Cons of KNN:\n",
        "\n",
        "\n",
        "1.   Computational Cost: As the dataset grows, the computational cost of finding the nearest neighbors increases, making KNN less efficient for large datasets.\n",
        "\n",
        "2.   Sensitive to Noise and Irrelevant Features: KNN is sensitive to outliers, noise, and irrelevant features, which can impact the accuracy of its predictions.\n",
        "3.   Need for Feature Scaling: KNN is sensitive to the scale of features, so it's often necessary to scale or normalize the data before applying the algorithm.\n",
        "4.   Curse of Dimensionality: In high-dimensional spaces, the concept of proximity becomes less meaningful, leading to decreased performance.\n",
        "\n",
        "In summary, KNN is a simple and effective algorithm that can be used for both classification and regression tasks. However, its performance may be influenced by factors such as dataset size, noise, and feature scaling, and it might not be the best choice for high-dimensional datasets.\n",
        "\n",
        "\n",
        "\n",
        "\n",
        "\n",
        "\n"
      ],
      "metadata": {
        "id": "EjPdihoAtNPP"
      }
    },
    {
      "cell_type": "markdown",
      "source": [
        "## About Iris Dataset:\n",
        "The Iris dataset is a popular dataset in the field of machine learning and statistics. It was introduced by the British biologist and statistician Sir Ronald A. Fisher in 1936 as an example of discriminant analysis. The dataset consists of measurements of various features of three species of iris flowers:\n",
        "\n",
        "*Sepal Length: The length of the iris flower's sepal (the outermost whorl of a flower).\n",
        "\n",
        "*Sepal Width: The width of the iris flower's sepal.\n",
        "\n",
        "*Petal Length: The length of the iris flower's petal (the inner whorl of a flower).\n",
        "\n",
        "*Petal Width: The width of the iris flower's petal.\n",
        "\n",
        "The three species of iris flowers included in the dataset are:\n",
        "\n",
        "-Setosa\n",
        "\n",
        "-Versicolor\n",
        "\n",
        "-Virginica\n",
        "\n",
        "The Iris dataset is commonly used for practicing and demonstrating various machine learning algorithms, particularly in the context of classification problems. It's a small and well-understood dataset, making it suitable for educational purposes and benchmarking algorithms. The dataset is often used to demonstrate the effectiveness of algorithms like K-Nearest Neighbors (KNN), Support Vector Machines (SVM), and decision trees for classification tasks."
      ],
      "metadata": {
        "id": "wJx5NN6Juoi0"
      }
    },
    {
      "cell_type": "markdown",
      "source": [
        "## Import Libraries"
      ],
      "metadata": {
        "id": "No6EKJOivqa9"
      }
    },
    {
      "cell_type": "code",
      "execution_count": 46,
      "metadata": {
        "id": "lIYdn1woOS1n"
      },
      "outputs": [],
      "source": [
        "import pandas as pd\n",
        "import numpy as np\n",
        "import matplotlib.pyplot as plt\n",
        "import seaborn as sns"
      ]
    },
    {
      "cell_type": "markdown",
      "source": [
        "## Craete Dataframe"
      ],
      "metadata": {
        "id": "gUv95Sd1vtck"
      }
    },
    {
      "cell_type": "code",
      "source": [
        "df =pd.read_csv('Iris.csv')"
      ],
      "metadata": {
        "id": "u7KWV2cr-pGV"
      },
      "execution_count": 47,
      "outputs": []
    },
    {
      "cell_type": "markdown",
      "source": [
        "## EDA"
      ],
      "metadata": {
        "id": "KAdt6rJBvyFU"
      }
    },
    {
      "cell_type": "code",
      "source": [
        "df=df.drop('Id',axis=1)"
      ],
      "metadata": {
        "id": "Vu34fh7Ny74T"
      },
      "execution_count": 48,
      "outputs": []
    },
    {
      "cell_type": "code",
      "source": [
        "df.columns"
      ],
      "metadata": {
        "colab": {
          "base_uri": "https://localhost:8080/"
        },
        "id": "2c3dWvPnzDjV",
        "outputId": "3bdacbd9-af10-4f57-bbe6-3644ffbc5315"
      },
      "execution_count": 49,
      "outputs": [
        {
          "output_type": "execute_result",
          "data": {
            "text/plain": [
              "Index(['SepalLengthCm', 'SepalWidthCm', 'PetalLengthCm', 'PetalWidthCm',\n",
              "       'Species'],\n",
              "      dtype='object')"
            ]
          },
          "metadata": {},
          "execution_count": 49
        }
      ]
    },
    {
      "cell_type": "code",
      "source": [
        "df"
      ],
      "metadata": {
        "id": "qGXnR2lq-vgm",
        "outputId": "86027680-7d95-4290-b18b-cf203be0a610",
        "colab": {
          "base_uri": "https://localhost:8080/",
          "height": 423
        }
      },
      "execution_count": 50,
      "outputs": [
        {
          "output_type": "execute_result",
          "data": {
            "text/plain": [
              "     SepalLengthCm  SepalWidthCm  PetalLengthCm  PetalWidthCm         Species\n",
              "0              5.1           3.5            1.4           0.2     Iris-setosa\n",
              "1              4.9           3.0            1.4           0.2     Iris-setosa\n",
              "2              4.7           3.2            1.3           0.2     Iris-setosa\n",
              "3              4.6           3.1            1.5           0.2     Iris-setosa\n",
              "4              5.0           3.6            1.4           0.2     Iris-setosa\n",
              "..             ...           ...            ...           ...             ...\n",
              "145            6.7           3.0            5.2           2.3  Iris-virginica\n",
              "146            6.3           2.5            5.0           1.9  Iris-virginica\n",
              "147            6.5           3.0            5.2           2.0  Iris-virginica\n",
              "148            6.2           3.4            5.4           2.3  Iris-virginica\n",
              "149            5.9           3.0            5.1           1.8  Iris-virginica\n",
              "\n",
              "[150 rows x 5 columns]"
            ],
            "text/html": [
              "\n",
              "  <div id=\"df-7f1c43d4-4eb2-4a5b-b751-1e3f309426d3\" class=\"colab-df-container\">\n",
              "    <div>\n",
              "<style scoped>\n",
              "    .dataframe tbody tr th:only-of-type {\n",
              "        vertical-align: middle;\n",
              "    }\n",
              "\n",
              "    .dataframe tbody tr th {\n",
              "        vertical-align: top;\n",
              "    }\n",
              "\n",
              "    .dataframe thead th {\n",
              "        text-align: right;\n",
              "    }\n",
              "</style>\n",
              "<table border=\"1\" class=\"dataframe\">\n",
              "  <thead>\n",
              "    <tr style=\"text-align: right;\">\n",
              "      <th></th>\n",
              "      <th>SepalLengthCm</th>\n",
              "      <th>SepalWidthCm</th>\n",
              "      <th>PetalLengthCm</th>\n",
              "      <th>PetalWidthCm</th>\n",
              "      <th>Species</th>\n",
              "    </tr>\n",
              "  </thead>\n",
              "  <tbody>\n",
              "    <tr>\n",
              "      <th>0</th>\n",
              "      <td>5.1</td>\n",
              "      <td>3.5</td>\n",
              "      <td>1.4</td>\n",
              "      <td>0.2</td>\n",
              "      <td>Iris-setosa</td>\n",
              "    </tr>\n",
              "    <tr>\n",
              "      <th>1</th>\n",
              "      <td>4.9</td>\n",
              "      <td>3.0</td>\n",
              "      <td>1.4</td>\n",
              "      <td>0.2</td>\n",
              "      <td>Iris-setosa</td>\n",
              "    </tr>\n",
              "    <tr>\n",
              "      <th>2</th>\n",
              "      <td>4.7</td>\n",
              "      <td>3.2</td>\n",
              "      <td>1.3</td>\n",
              "      <td>0.2</td>\n",
              "      <td>Iris-setosa</td>\n",
              "    </tr>\n",
              "    <tr>\n",
              "      <th>3</th>\n",
              "      <td>4.6</td>\n",
              "      <td>3.1</td>\n",
              "      <td>1.5</td>\n",
              "      <td>0.2</td>\n",
              "      <td>Iris-setosa</td>\n",
              "    </tr>\n",
              "    <tr>\n",
              "      <th>4</th>\n",
              "      <td>5.0</td>\n",
              "      <td>3.6</td>\n",
              "      <td>1.4</td>\n",
              "      <td>0.2</td>\n",
              "      <td>Iris-setosa</td>\n",
              "    </tr>\n",
              "    <tr>\n",
              "      <th>...</th>\n",
              "      <td>...</td>\n",
              "      <td>...</td>\n",
              "      <td>...</td>\n",
              "      <td>...</td>\n",
              "      <td>...</td>\n",
              "    </tr>\n",
              "    <tr>\n",
              "      <th>145</th>\n",
              "      <td>6.7</td>\n",
              "      <td>3.0</td>\n",
              "      <td>5.2</td>\n",
              "      <td>2.3</td>\n",
              "      <td>Iris-virginica</td>\n",
              "    </tr>\n",
              "    <tr>\n",
              "      <th>146</th>\n",
              "      <td>6.3</td>\n",
              "      <td>2.5</td>\n",
              "      <td>5.0</td>\n",
              "      <td>1.9</td>\n",
              "      <td>Iris-virginica</td>\n",
              "    </tr>\n",
              "    <tr>\n",
              "      <th>147</th>\n",
              "      <td>6.5</td>\n",
              "      <td>3.0</td>\n",
              "      <td>5.2</td>\n",
              "      <td>2.0</td>\n",
              "      <td>Iris-virginica</td>\n",
              "    </tr>\n",
              "    <tr>\n",
              "      <th>148</th>\n",
              "      <td>6.2</td>\n",
              "      <td>3.4</td>\n",
              "      <td>5.4</td>\n",
              "      <td>2.3</td>\n",
              "      <td>Iris-virginica</td>\n",
              "    </tr>\n",
              "    <tr>\n",
              "      <th>149</th>\n",
              "      <td>5.9</td>\n",
              "      <td>3.0</td>\n",
              "      <td>5.1</td>\n",
              "      <td>1.8</td>\n",
              "      <td>Iris-virginica</td>\n",
              "    </tr>\n",
              "  </tbody>\n",
              "</table>\n",
              "<p>150 rows × 5 columns</p>\n",
              "</div>\n",
              "    <div class=\"colab-df-buttons\">\n",
              "\n",
              "  <div class=\"colab-df-container\">\n",
              "    <button class=\"colab-df-convert\" onclick=\"convertToInteractive('df-7f1c43d4-4eb2-4a5b-b751-1e3f309426d3')\"\n",
              "            title=\"Convert this dataframe to an interactive table.\"\n",
              "            style=\"display:none;\">\n",
              "\n",
              "  <svg xmlns=\"http://www.w3.org/2000/svg\" height=\"24px\" viewBox=\"0 -960 960 960\">\n",
              "    <path d=\"M120-120v-720h720v720H120Zm60-500h600v-160H180v160Zm220 220h160v-160H400v160Zm0 220h160v-160H400v160ZM180-400h160v-160H180v160Zm440 0h160v-160H620v160ZM180-180h160v-160H180v160Zm440 0h160v-160H620v160Z\"/>\n",
              "  </svg>\n",
              "    </button>\n",
              "\n",
              "  <style>\n",
              "    .colab-df-container {\n",
              "      display:flex;\n",
              "      gap: 12px;\n",
              "    }\n",
              "\n",
              "    .colab-df-convert {\n",
              "      background-color: #E8F0FE;\n",
              "      border: none;\n",
              "      border-radius: 50%;\n",
              "      cursor: pointer;\n",
              "      display: none;\n",
              "      fill: #1967D2;\n",
              "      height: 32px;\n",
              "      padding: 0 0 0 0;\n",
              "      width: 32px;\n",
              "    }\n",
              "\n",
              "    .colab-df-convert:hover {\n",
              "      background-color: #E2EBFA;\n",
              "      box-shadow: 0px 1px 2px rgba(60, 64, 67, 0.3), 0px 1px 3px 1px rgba(60, 64, 67, 0.15);\n",
              "      fill: #174EA6;\n",
              "    }\n",
              "\n",
              "    .colab-df-buttons div {\n",
              "      margin-bottom: 4px;\n",
              "    }\n",
              "\n",
              "    [theme=dark] .colab-df-convert {\n",
              "      background-color: #3B4455;\n",
              "      fill: #D2E3FC;\n",
              "    }\n",
              "\n",
              "    [theme=dark] .colab-df-convert:hover {\n",
              "      background-color: #434B5C;\n",
              "      box-shadow: 0px 1px 3px 1px rgba(0, 0, 0, 0.15);\n",
              "      filter: drop-shadow(0px 1px 2px rgba(0, 0, 0, 0.3));\n",
              "      fill: #FFFFFF;\n",
              "    }\n",
              "  </style>\n",
              "\n",
              "    <script>\n",
              "      const buttonEl =\n",
              "        document.querySelector('#df-7f1c43d4-4eb2-4a5b-b751-1e3f309426d3 button.colab-df-convert');\n",
              "      buttonEl.style.display =\n",
              "        google.colab.kernel.accessAllowed ? 'block' : 'none';\n",
              "\n",
              "      async function convertToInteractive(key) {\n",
              "        const element = document.querySelector('#df-7f1c43d4-4eb2-4a5b-b751-1e3f309426d3');\n",
              "        const dataTable =\n",
              "          await google.colab.kernel.invokeFunction('convertToInteractive',\n",
              "                                                    [key], {});\n",
              "        if (!dataTable) return;\n",
              "\n",
              "        const docLinkHtml = 'Like what you see? Visit the ' +\n",
              "          '<a target=\"_blank\" href=https://colab.research.google.com/notebooks/data_table.ipynb>data table notebook</a>'\n",
              "          + ' to learn more about interactive tables.';\n",
              "        element.innerHTML = '';\n",
              "        dataTable['output_type'] = 'display_data';\n",
              "        await google.colab.output.renderOutput(dataTable, element);\n",
              "        const docLink = document.createElement('div');\n",
              "        docLink.innerHTML = docLinkHtml;\n",
              "        element.appendChild(docLink);\n",
              "      }\n",
              "    </script>\n",
              "  </div>\n",
              "\n",
              "\n",
              "<div id=\"df-1de5b0a4-1327-4e6b-a75f-6077dc0ba495\">\n",
              "  <button class=\"colab-df-quickchart\" onclick=\"quickchart('df-1de5b0a4-1327-4e6b-a75f-6077dc0ba495')\"\n",
              "            title=\"Suggest charts\"\n",
              "            style=\"display:none;\">\n",
              "\n",
              "<svg xmlns=\"http://www.w3.org/2000/svg\" height=\"24px\"viewBox=\"0 0 24 24\"\n",
              "     width=\"24px\">\n",
              "    <g>\n",
              "        <path d=\"M19 3H5c-1.1 0-2 .9-2 2v14c0 1.1.9 2 2 2h14c1.1 0 2-.9 2-2V5c0-1.1-.9-2-2-2zM9 17H7v-7h2v7zm4 0h-2V7h2v10zm4 0h-2v-4h2v4z\"/>\n",
              "    </g>\n",
              "</svg>\n",
              "  </button>\n",
              "\n",
              "<style>\n",
              "  .colab-df-quickchart {\n",
              "      --bg-color: #E8F0FE;\n",
              "      --fill-color: #1967D2;\n",
              "      --hover-bg-color: #E2EBFA;\n",
              "      --hover-fill-color: #174EA6;\n",
              "      --disabled-fill-color: #AAA;\n",
              "      --disabled-bg-color: #DDD;\n",
              "  }\n",
              "\n",
              "  [theme=dark] .colab-df-quickchart {\n",
              "      --bg-color: #3B4455;\n",
              "      --fill-color: #D2E3FC;\n",
              "      --hover-bg-color: #434B5C;\n",
              "      --hover-fill-color: #FFFFFF;\n",
              "      --disabled-bg-color: #3B4455;\n",
              "      --disabled-fill-color: #666;\n",
              "  }\n",
              "\n",
              "  .colab-df-quickchart {\n",
              "    background-color: var(--bg-color);\n",
              "    border: none;\n",
              "    border-radius: 50%;\n",
              "    cursor: pointer;\n",
              "    display: none;\n",
              "    fill: var(--fill-color);\n",
              "    height: 32px;\n",
              "    padding: 0;\n",
              "    width: 32px;\n",
              "  }\n",
              "\n",
              "  .colab-df-quickchart:hover {\n",
              "    background-color: var(--hover-bg-color);\n",
              "    box-shadow: 0 1px 2px rgba(60, 64, 67, 0.3), 0 1px 3px 1px rgba(60, 64, 67, 0.15);\n",
              "    fill: var(--button-hover-fill-color);\n",
              "  }\n",
              "\n",
              "  .colab-df-quickchart-complete:disabled,\n",
              "  .colab-df-quickchart-complete:disabled:hover {\n",
              "    background-color: var(--disabled-bg-color);\n",
              "    fill: var(--disabled-fill-color);\n",
              "    box-shadow: none;\n",
              "  }\n",
              "\n",
              "  .colab-df-spinner {\n",
              "    border: 2px solid var(--fill-color);\n",
              "    border-color: transparent;\n",
              "    border-bottom-color: var(--fill-color);\n",
              "    animation:\n",
              "      spin 1s steps(1) infinite;\n",
              "  }\n",
              "\n",
              "  @keyframes spin {\n",
              "    0% {\n",
              "      border-color: transparent;\n",
              "      border-bottom-color: var(--fill-color);\n",
              "      border-left-color: var(--fill-color);\n",
              "    }\n",
              "    20% {\n",
              "      border-color: transparent;\n",
              "      border-left-color: var(--fill-color);\n",
              "      border-top-color: var(--fill-color);\n",
              "    }\n",
              "    30% {\n",
              "      border-color: transparent;\n",
              "      border-left-color: var(--fill-color);\n",
              "      border-top-color: var(--fill-color);\n",
              "      border-right-color: var(--fill-color);\n",
              "    }\n",
              "    40% {\n",
              "      border-color: transparent;\n",
              "      border-right-color: var(--fill-color);\n",
              "      border-top-color: var(--fill-color);\n",
              "    }\n",
              "    60% {\n",
              "      border-color: transparent;\n",
              "      border-right-color: var(--fill-color);\n",
              "    }\n",
              "    80% {\n",
              "      border-color: transparent;\n",
              "      border-right-color: var(--fill-color);\n",
              "      border-bottom-color: var(--fill-color);\n",
              "    }\n",
              "    90% {\n",
              "      border-color: transparent;\n",
              "      border-bottom-color: var(--fill-color);\n",
              "    }\n",
              "  }\n",
              "</style>\n",
              "\n",
              "  <script>\n",
              "    async function quickchart(key) {\n",
              "      const quickchartButtonEl =\n",
              "        document.querySelector('#' + key + ' button');\n",
              "      quickchartButtonEl.disabled = true;  // To prevent multiple clicks.\n",
              "      quickchartButtonEl.classList.add('colab-df-spinner');\n",
              "      try {\n",
              "        const charts = await google.colab.kernel.invokeFunction(\n",
              "            'suggestCharts', [key], {});\n",
              "      } catch (error) {\n",
              "        console.error('Error during call to suggestCharts:', error);\n",
              "      }\n",
              "      quickchartButtonEl.classList.remove('colab-df-spinner');\n",
              "      quickchartButtonEl.classList.add('colab-df-quickchart-complete');\n",
              "    }\n",
              "    (() => {\n",
              "      let quickchartButtonEl =\n",
              "        document.querySelector('#df-1de5b0a4-1327-4e6b-a75f-6077dc0ba495 button');\n",
              "      quickchartButtonEl.style.display =\n",
              "        google.colab.kernel.accessAllowed ? 'block' : 'none';\n",
              "    })();\n",
              "  </script>\n",
              "</div>\n",
              "\n",
              "  <div id=\"id_904c6c63-fef4-4cc2-b746-fa906eaf1900\">\n",
              "    <style>\n",
              "      .colab-df-generate {\n",
              "        background-color: #E8F0FE;\n",
              "        border: none;\n",
              "        border-radius: 50%;\n",
              "        cursor: pointer;\n",
              "        display: none;\n",
              "        fill: #1967D2;\n",
              "        height: 32px;\n",
              "        padding: 0 0 0 0;\n",
              "        width: 32px;\n",
              "      }\n",
              "\n",
              "      .colab-df-generate:hover {\n",
              "        background-color: #E2EBFA;\n",
              "        box-shadow: 0px 1px 2px rgba(60, 64, 67, 0.3), 0px 1px 3px 1px rgba(60, 64, 67, 0.15);\n",
              "        fill: #174EA6;\n",
              "      }\n",
              "\n",
              "      [theme=dark] .colab-df-generate {\n",
              "        background-color: #3B4455;\n",
              "        fill: #D2E3FC;\n",
              "      }\n",
              "\n",
              "      [theme=dark] .colab-df-generate:hover {\n",
              "        background-color: #434B5C;\n",
              "        box-shadow: 0px 1px 3px 1px rgba(0, 0, 0, 0.15);\n",
              "        filter: drop-shadow(0px 1px 2px rgba(0, 0, 0, 0.3));\n",
              "        fill: #FFFFFF;\n",
              "      }\n",
              "    </style>\n",
              "    <button class=\"colab-df-generate\" onclick=\"generateWithVariable('df')\"\n",
              "            title=\"Generate code using this dataframe.\"\n",
              "            style=\"display:none;\">\n",
              "\n",
              "  <svg xmlns=\"http://www.w3.org/2000/svg\" height=\"24px\"viewBox=\"0 0 24 24\"\n",
              "       width=\"24px\">\n",
              "    <path d=\"M7,19H8.4L18.45,9,17,7.55,7,17.6ZM5,21V16.75L18.45,3.32a2,2,0,0,1,2.83,0l1.4,1.43a1.91,1.91,0,0,1,.58,1.4,1.91,1.91,0,0,1-.58,1.4L9.25,21ZM18.45,9,17,7.55Zm-12,3A5.31,5.31,0,0,0,4.9,8.1,5.31,5.31,0,0,0,1,6.5,5.31,5.31,0,0,0,4.9,4.9,5.31,5.31,0,0,0,6.5,1,5.31,5.31,0,0,0,8.1,4.9,5.31,5.31,0,0,0,12,6.5,5.46,5.46,0,0,0,6.5,12Z\"/>\n",
              "  </svg>\n",
              "    </button>\n",
              "    <script>\n",
              "      (() => {\n",
              "      const buttonEl =\n",
              "        document.querySelector('#id_904c6c63-fef4-4cc2-b746-fa906eaf1900 button.colab-df-generate');\n",
              "      buttonEl.style.display =\n",
              "        google.colab.kernel.accessAllowed ? 'block' : 'none';\n",
              "\n",
              "      buttonEl.onclick = () => {\n",
              "        google.colab.notebook.generateWithVariable('df');\n",
              "      }\n",
              "      })();\n",
              "    </script>\n",
              "  </div>\n",
              "\n",
              "    </div>\n",
              "  </div>\n"
            ]
          },
          "metadata": {},
          "execution_count": 50
        }
      ]
    },
    {
      "cell_type": "markdown",
      "source": [
        "## The dtype of 'Species' in the target column is categorical"
      ],
      "metadata": {
        "id": "58SaYIokv6Tl"
      }
    },
    {
      "cell_type": "code",
      "source": [
        "y = df['Species'].astype('category')"
      ],
      "metadata": {
        "id": "w7jFIheO-xTg"
      },
      "execution_count": 51,
      "outputs": []
    },
    {
      "cell_type": "markdown",
      "source": [
        "## Conver Categical to Numerical in Target column"
      ],
      "metadata": {
        "id": "0C9zCKfAwXE0"
      }
    },
    {
      "cell_type": "code",
      "source": [
        "y = y.cat.codes\n",
        "print(y)"
      ],
      "metadata": {
        "id": "-GHecsEn_DZc",
        "colab": {
          "base_uri": "https://localhost:8080/"
        },
        "outputId": "b16ede7c-8410-4741-dabc-cc5c20d91239"
      },
      "execution_count": 52,
      "outputs": [
        {
          "output_type": "stream",
          "name": "stdout",
          "text": [
            "0      0\n",
            "1      0\n",
            "2      0\n",
            "3      0\n",
            "4      0\n",
            "      ..\n",
            "145    2\n",
            "146    2\n",
            "147    2\n",
            "148    2\n",
            "149    2\n",
            "Length: 150, dtype: int8\n"
          ]
        }
      ]
    },
    {
      "cell_type": "markdown",
      "source": [
        "## Scale Data"
      ],
      "metadata": {
        "id": "UgbsIeVjxLRV"
      }
    },
    {
      "cell_type": "code",
      "source": [
        "from sklearn.preprocessing import StandardScaler"
      ],
      "metadata": {
        "id": "XYbBeiMexO6k"
      },
      "execution_count": 53,
      "outputs": []
    },
    {
      "cell_type": "code",
      "source": [
        "sc=StandardScaler()"
      ],
      "metadata": {
        "id": "loamkH7Yxaw8"
      },
      "execution_count": 54,
      "outputs": []
    },
    {
      "cell_type": "code",
      "source": [
        "df=df.drop('Species',axis=1)"
      ],
      "metadata": {
        "id": "TymfVtAWxaos"
      },
      "execution_count": 55,
      "outputs": []
    },
    {
      "cell_type": "code",
      "source": [
        "df_sc=sc.fit_transform(df)"
      ],
      "metadata": {
        "id": "80X1RAvlyWVc"
      },
      "execution_count": 56,
      "outputs": []
    },
    {
      "cell_type": "code",
      "source": [
        "X=pd.DataFrame(df_sc, columns=['SepalLengthCm', 'SepalWidthCm', 'PetalLengthCm', 'PetalWidthCm'])"
      ],
      "metadata": {
        "id": "GL-2EA_cyjEL"
      },
      "execution_count": 57,
      "outputs": []
    },
    {
      "cell_type": "markdown",
      "source": [
        "## Train Test Split"
      ],
      "metadata": {
        "id": "g7vXQ-58zVWz"
      }
    },
    {
      "cell_type": "code",
      "source": [
        "from sklearn.model_selection import train_test_split"
      ],
      "metadata": {
        "id": "-rAIy4SWzb0E"
      },
      "execution_count": 58,
      "outputs": []
    },
    {
      "cell_type": "code",
      "source": [
        "X_train ,  X_test , y_train , y_test = train_test_split(X, y, test_size=0.3,random_state=42)"
      ],
      "metadata": {
        "id": "Zg3vcKslzetr"
      },
      "execution_count": 59,
      "outputs": []
    },
    {
      "cell_type": "code",
      "source": [
        "\n",
        "from scipy.stats import mode\n",
        "\n",
        "\n",
        "\n",
        "\n",
        "from sklearn.neighbors import KNeighborsRegressor\n",
        "from sklearn.metrics import mean_squared_error\n",
        "from sklearn.metrics import r2_score\n",
        "\n"
      ],
      "metadata": {
        "id": "fdyTx3BZ_NDq"
      },
      "execution_count": 60,
      "outputs": []
    },
    {
      "cell_type": "markdown",
      "source": [
        "## Build KNN Model"
      ],
      "metadata": {
        "id": "tt4McSycz5AD"
      }
    },
    {
      "cell_type": "code",
      "source": [
        "from sklearn.neighbors import KNeighborsClassifier"
      ],
      "metadata": {
        "id": "lxCeno3YB_7e"
      },
      "execution_count": 61,
      "outputs": []
    },
    {
      "cell_type": "markdown",
      "source": [
        "## About kd_tree Algorithm\n",
        "The k-d tree (short for k-dimensional tree) is a data structure used for efficient multidimensional search operations, such as finding the nearest neighbors of a given point in a space with multiple dimensions.\n",
        "\n",
        "P: This parameter is relevant when using the Minkowski distance metric. The Minkowski distance with p=1 corresponds to the Manhattan distance (sum of absolute differences). Setting p=2 would correspond to the Euclidean distance."
      ],
      "metadata": {
        "id": "0amVhn6Q0E8M"
      }
    },
    {
      "cell_type": "code",
      "source": [
        "knn = KNeighborsClassifier(n_neighbors= 25, algorithm='kd_tree' , p= 2)"
      ],
      "metadata": {
        "id": "rdjB0-00_yqQ"
      },
      "execution_count": 87,
      "outputs": []
    },
    {
      "cell_type": "code",
      "source": [
        "knn.fit(X_train , y_train)"
      ],
      "metadata": {
        "id": "KyNkdIycAvsI",
        "outputId": "2fc08d33-994e-4f30-dca4-342defa0d42d",
        "colab": {
          "base_uri": "https://localhost:8080/",
          "height": 74
        }
      },
      "execution_count": 88,
      "outputs": [
        {
          "output_type": "execute_result",
          "data": {
            "text/plain": [
              "KNeighborsClassifier(algorithm='kd_tree', n_neighbors=25)"
            ],
            "text/html": [
              "<style>#sk-container-id-7 {color: black;background-color: white;}#sk-container-id-7 pre{padding: 0;}#sk-container-id-7 div.sk-toggleable {background-color: white;}#sk-container-id-7 label.sk-toggleable__label {cursor: pointer;display: block;width: 100%;margin-bottom: 0;padding: 0.3em;box-sizing: border-box;text-align: center;}#sk-container-id-7 label.sk-toggleable__label-arrow:before {content: \"▸\";float: left;margin-right: 0.25em;color: #696969;}#sk-container-id-7 label.sk-toggleable__label-arrow:hover:before {color: black;}#sk-container-id-7 div.sk-estimator:hover label.sk-toggleable__label-arrow:before {color: black;}#sk-container-id-7 div.sk-toggleable__content {max-height: 0;max-width: 0;overflow: hidden;text-align: left;background-color: #f0f8ff;}#sk-container-id-7 div.sk-toggleable__content pre {margin: 0.2em;color: black;border-radius: 0.25em;background-color: #f0f8ff;}#sk-container-id-7 input.sk-toggleable__control:checked~div.sk-toggleable__content {max-height: 200px;max-width: 100%;overflow: auto;}#sk-container-id-7 input.sk-toggleable__control:checked~label.sk-toggleable__label-arrow:before {content: \"▾\";}#sk-container-id-7 div.sk-estimator input.sk-toggleable__control:checked~label.sk-toggleable__label {background-color: #d4ebff;}#sk-container-id-7 div.sk-label input.sk-toggleable__control:checked~label.sk-toggleable__label {background-color: #d4ebff;}#sk-container-id-7 input.sk-hidden--visually {border: 0;clip: rect(1px 1px 1px 1px);clip: rect(1px, 1px, 1px, 1px);height: 1px;margin: -1px;overflow: hidden;padding: 0;position: absolute;width: 1px;}#sk-container-id-7 div.sk-estimator {font-family: monospace;background-color: #f0f8ff;border: 1px dotted black;border-radius: 0.25em;box-sizing: border-box;margin-bottom: 0.5em;}#sk-container-id-7 div.sk-estimator:hover {background-color: #d4ebff;}#sk-container-id-7 div.sk-parallel-item::after {content: \"\";width: 100%;border-bottom: 1px solid gray;flex-grow: 1;}#sk-container-id-7 div.sk-label:hover label.sk-toggleable__label {background-color: #d4ebff;}#sk-container-id-7 div.sk-serial::before {content: \"\";position: absolute;border-left: 1px solid gray;box-sizing: border-box;top: 0;bottom: 0;left: 50%;z-index: 0;}#sk-container-id-7 div.sk-serial {display: flex;flex-direction: column;align-items: center;background-color: white;padding-right: 0.2em;padding-left: 0.2em;position: relative;}#sk-container-id-7 div.sk-item {position: relative;z-index: 1;}#sk-container-id-7 div.sk-parallel {display: flex;align-items: stretch;justify-content: center;background-color: white;position: relative;}#sk-container-id-7 div.sk-item::before, #sk-container-id-7 div.sk-parallel-item::before {content: \"\";position: absolute;border-left: 1px solid gray;box-sizing: border-box;top: 0;bottom: 0;left: 50%;z-index: -1;}#sk-container-id-7 div.sk-parallel-item {display: flex;flex-direction: column;z-index: 1;position: relative;background-color: white;}#sk-container-id-7 div.sk-parallel-item:first-child::after {align-self: flex-end;width: 50%;}#sk-container-id-7 div.sk-parallel-item:last-child::after {align-self: flex-start;width: 50%;}#sk-container-id-7 div.sk-parallel-item:only-child::after {width: 0;}#sk-container-id-7 div.sk-dashed-wrapped {border: 1px dashed gray;margin: 0 0.4em 0.5em 0.4em;box-sizing: border-box;padding-bottom: 0.4em;background-color: white;}#sk-container-id-7 div.sk-label label {font-family: monospace;font-weight: bold;display: inline-block;line-height: 1.2em;}#sk-container-id-7 div.sk-label-container {text-align: center;}#sk-container-id-7 div.sk-container {/* jupyter's `normalize.less` sets `[hidden] { display: none; }` but bootstrap.min.css set `[hidden] { display: none !important; }` so we also need the `!important` here to be able to override the default hidden behavior on the sphinx rendered scikit-learn.org. See: https://github.com/scikit-learn/scikit-learn/issues/21755 */display: inline-block !important;position: relative;}#sk-container-id-7 div.sk-text-repr-fallback {display: none;}</style><div id=\"sk-container-id-7\" class=\"sk-top-container\"><div class=\"sk-text-repr-fallback\"><pre>KNeighborsClassifier(algorithm=&#x27;kd_tree&#x27;, n_neighbors=25)</pre><b>In a Jupyter environment, please rerun this cell to show the HTML representation or trust the notebook. <br />On GitHub, the HTML representation is unable to render, please try loading this page with nbviewer.org.</b></div><div class=\"sk-container\" hidden><div class=\"sk-item\"><div class=\"sk-estimator sk-toggleable\"><input class=\"sk-toggleable__control sk-hidden--visually\" id=\"sk-estimator-id-7\" type=\"checkbox\" checked><label for=\"sk-estimator-id-7\" class=\"sk-toggleable__label sk-toggleable__label-arrow\">KNeighborsClassifier</label><div class=\"sk-toggleable__content\"><pre>KNeighborsClassifier(algorithm=&#x27;kd_tree&#x27;, n_neighbors=25)</pre></div></div></div></div></div>"
            ]
          },
          "metadata": {},
          "execution_count": 88
        }
      ]
    },
    {
      "cell_type": "code",
      "source": [
        "pred = knn.predict(X_test)"
      ],
      "metadata": {
        "id": "bKCChksqBmZJ"
      },
      "execution_count": 89,
      "outputs": []
    },
    {
      "cell_type": "markdown",
      "source": [
        "## Evaluation"
      ],
      "metadata": {
        "id": "8n_g6yMyGatw"
      }
    },
    {
      "cell_type": "code",
      "source": [
        "from sklearn.metrics import classification_report"
      ],
      "metadata": {
        "id": "NL8sNVcYGeMR"
      },
      "execution_count": 90,
      "outputs": []
    },
    {
      "cell_type": "code",
      "source": [
        "print(classification_report(y_test , pred))"
      ],
      "metadata": {
        "id": "ElyRkn95Bq-9",
        "outputId": "792db854-96cf-48fd-a7e2-5f3efe2f2b4d",
        "colab": {
          "base_uri": "https://localhost:8080/"
        }
      },
      "execution_count": 91,
      "outputs": [
        {
          "output_type": "stream",
          "name": "stdout",
          "text": [
            "              precision    recall  f1-score   support\n",
            "\n",
            "           0       1.00      1.00      1.00        19\n",
            "           1       0.92      0.92      0.92        13\n",
            "           2       0.92      0.92      0.92        13\n",
            "\n",
            "    accuracy                           0.96        45\n",
            "   macro avg       0.95      0.95      0.95        45\n",
            "weighted avg       0.96      0.96      0.96        45\n",
            "\n"
          ]
        }
      ]
    },
    {
      "cell_type": "markdown",
      "source": [
        "## About Cross Validation Score\n",
        "Cross-validation is a statistical technique used in machine learning to assess the performance of a predictive model. The primary goal of cross-validation is to provide a more accurate and reliable estimate of a model's performance by using different subsets of the available data for training and testing.\n",
        "\n",
        "** cv=5: This parameter specifies the number of folds in the cross-validation. In this case, it's set to 5, meaning that the dataset will be divided into 5 folds, and the model will be trained and evaluated 5 times.\n"
      ],
      "metadata": {
        "id": "jw0uUuCJIw4m"
      }
    },
    {
      "cell_type": "code",
      "source": [
        "from sklearn.model_selection import cross_val_score"
      ],
      "metadata": {
        "id": "vqEFJtj7B0Nd"
      },
      "execution_count": 93,
      "outputs": []
    },
    {
      "cell_type": "code",
      "source": [
        "neighbors = np.arange(2,11)\n",
        "mindowsky = [1, 2, np.inf]\n",
        "for j in mindowsky:\n",
        "  print('p is ', j, '\\n -------------------------')\n",
        "  for k in neighbors:\n",
        "    kkn_val = KNeighborsClassifier(n_neighbors=k, p=j)\n",
        "    scores = cross_val_score(kkn_val, X_train, y_train,\n",
        "                            cv=5, scoring='accuracy')\n",
        "    print('for k = ', k, 'acc is ', scores, 'mean_acc is ', scores.mean())"
      ],
      "metadata": {
        "colab": {
          "base_uri": "https://localhost:8080/"
        },
        "id": "AMDulOPQLJVf",
        "outputId": "d9cda688-ed3d-46a7-fc18-067706a9db1b"
      },
      "execution_count": 92,
      "outputs": [
        {
          "output_type": "stream",
          "name": "stdout",
          "text": [
            "p is  1 \n",
            " -------------------------\n",
            "for k =  2 acc is  [0.95238095 0.85714286 0.85714286 1.         0.9047619 ] mean_acc is  0.9142857142857143\n",
            "for k =  3 acc is  [0.95238095 0.85714286 0.85714286 1.         0.9047619 ] mean_acc is  0.9142857142857143\n",
            "for k =  4 acc is  [0.95238095 0.85714286 0.85714286 0.95238095 0.9047619 ] mean_acc is  0.9047619047619048\n",
            "for k =  5 acc is  [0.95238095 0.85714286 0.85714286 1.         0.95238095] mean_acc is  0.9238095238095237\n",
            "for k =  6 acc is  [0.95238095 0.9047619  0.85714286 1.         0.95238095] mean_acc is  0.9333333333333333\n",
            "for k =  7 acc is  [0.95238095 0.9047619  0.9047619  1.         0.95238095] mean_acc is  0.9428571428571428\n",
            "for k =  8 acc is  [0.95238095 0.9047619  0.9047619  1.         0.95238095] mean_acc is  0.9428571428571428\n",
            "for k =  9 acc is  [0.95238095 0.9047619  0.85714286 1.         0.95238095] mean_acc is  0.9333333333333333\n",
            "for k =  10 acc is  [0.95238095 0.9047619  0.85714286 1.         0.9047619 ] mean_acc is  0.9238095238095239\n",
            "p is  2 \n",
            " -------------------------\n",
            "for k =  2 acc is  [0.95238095 0.9047619  0.9047619  1.         0.9047619 ] mean_acc is  0.9333333333333333\n",
            "for k =  3 acc is  [0.95238095 0.95238095 0.85714286 1.         0.95238095] mean_acc is  0.9428571428571428\n",
            "for k =  4 acc is  [0.9047619  0.9047619  0.85714286 1.         0.9047619 ] mean_acc is  0.9142857142857143\n",
            "for k =  5 acc is  [0.9047619  0.9047619  0.85714286 1.         0.9047619 ] mean_acc is  0.9142857142857143\n",
            "for k =  6 acc is  [0.9047619  0.9047619  0.85714286 1.         0.9047619 ] mean_acc is  0.9142857142857143\n",
            "for k =  7 acc is  [0.95238095 0.9047619  0.85714286 1.         0.9047619 ] mean_acc is  0.9238095238095239\n",
            "for k =  8 acc is  [0.95238095 0.95238095 0.85714286 1.         0.9047619 ] mean_acc is  0.9333333333333333\n",
            "for k =  9 acc is  [0.95238095 0.9047619  0.85714286 1.         0.9047619 ] mean_acc is  0.9238095238095239\n",
            "for k =  10 acc is  [0.95238095 0.9047619  0.9047619  1.         0.9047619 ] mean_acc is  0.9333333333333333\n",
            "p is  inf \n",
            " -------------------------\n",
            "for k =  2 acc is  [0.95238095 0.85714286 0.9047619  1.         0.85714286] mean_acc is  0.9142857142857143\n",
            "for k =  3 acc is  [0.95238095 0.95238095 0.85714286 1.         0.9047619 ] mean_acc is  0.9333333333333333\n",
            "for k =  4 acc is  [0.9047619  0.95238095 0.9047619  0.95238095 0.85714286] mean_acc is  0.9142857142857143\n",
            "for k =  5 acc is  [0.95238095 0.95238095 0.85714286 1.         0.9047619 ] mean_acc is  0.9333333333333333\n",
            "for k =  6 acc is  [0.9047619  1.         0.9047619  0.95238095 0.80952381] mean_acc is  0.9142857142857143\n",
            "for k =  7 acc is  [0.95238095 1.         0.85714286 1.         0.80952381] mean_acc is  0.9238095238095237\n",
            "for k =  8 acc is  [0.9047619  1.         0.9047619  1.         0.80952381] mean_acc is  0.9238095238095237\n",
            "for k =  9 acc is  [0.95238095 0.95238095 0.9047619  1.         0.85714286] mean_acc is  0.9333333333333332\n",
            "for k =  10 acc is  [0.9047619  0.95238095 0.85714286 1.         0.80952381] mean_acc is  0.9047619047619048\n"
          ]
        }
      ]
    },
    {
      "cell_type": "markdown",
      "source": [
        "## Result\n",
        "\n",
        "For p = 1:\n",
        "\n",
        "Best mean accuracy is achieved for k=7 and k=8 with a mean accuracy of approximately 0.9429.\n",
        "The mean accuracy generally increases with increasing k until it starts to stabilize.\n",
        "\n",
        "For p = 2:\n",
        "\n",
        "Best mean accuracy is achieved for k=7 and k=8 with a mean accuracy of approximately 0.9333.\n",
        "The mean accuracy follows a similar pattern as with p=1, increasing with k until it stabilizes.\n",
        "\n",
        "For p = infinity (p = inf):\n",
        "\n",
        "Best mean accuracy is achieved for k=3, k=5, and k=9 with a mean accuracy of approximately 0.9333.\n",
        "The mean accuracy varies for different values of k, but it generally increases with larger values of k.\n",
        "\n",
        "*General observations:\n",
        "\n",
        "The choice of the distance metric parameter (p) affects the performance of the KNN classifier.\n",
        "The optimal number of neighbors (k) varies for different values of p.\n",
        "The mean accuracy tends to increase with larger values of k, but there's a point where increasing k further does not significantly improve performance.\n",
        "\n",
        "**In summary,choosing the combination of p and k that gives the highest mean accuracy for your specific dataset and problem."
      ],
      "metadata": {
        "id": "JFBLmoT4MMDm"
      }
    },
    {
      "cell_type": "code",
      "source": [],
      "metadata": {
        "id": "Dt6MmfuZMzCG"
      },
      "execution_count": null,
      "outputs": []
    }
  ],
  "metadata": {
    "colab": {
      "provenance": [],
      "include_colab_link": true
    },
    "kernelspec": {
      "display_name": "Python 3",
      "name": "python3"
    }
  },
  "nbformat": 4,
  "nbformat_minor": 0
}